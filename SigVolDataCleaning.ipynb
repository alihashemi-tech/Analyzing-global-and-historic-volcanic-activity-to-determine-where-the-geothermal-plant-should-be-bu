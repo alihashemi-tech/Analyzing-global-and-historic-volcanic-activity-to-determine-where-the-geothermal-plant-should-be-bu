{
 "cells": [
  {
   "cell_type": "code",
   "execution_count": 1,
   "metadata": {},
   "outputs": [],
   "source": [
    "import pandas as pd\n",
    "import numpy as np\n",
    "from sklearn.linear_model import LinearRegression"
   ]
  },
  {
   "cell_type": "markdown",
   "metadata": {},
   "source": [
    "# Data Ingestion and Exploration"
   ]
  },
  {
   "cell_type": "code",
   "execution_count": 3,
   "metadata": {},
   "outputs": [
    {
     "name": "stdout",
     "output_type": "stream",
     "text": [
      "     Year  Month  Day Associated Tsunami? Associated Earthquake?  \\\n",
      "0     NaN    NaN  NaN                 NaN                    NaN   \n",
      "1 -4360.0    NaN  NaN                 NaN                    NaN   \n",
      "2 -4350.0    NaN  NaN                 NaN                    NaN   \n",
      "3 -4050.0    NaN  NaN                 NaN                    NaN   \n",
      "4 -4000.0    NaN  NaN                 NaN                    NaN   \n",
      "\n",
      "              Name            Location           Country  Latitude  Longitude  \\\n",
      "0              NaN                 NaN               NaN       NaN        NaN   \n",
      "1  Macauley Island         Kermadec Is       New Zealand   -30.200   -178.470   \n",
      "2            Kikai           Ryukyu Is             Japan    30.780    130.280   \n",
      "3           Masaya           Nicaragua         Nicaragua    11.984    -86.161   \n",
      "4             Pago  New Britain-SW Pac  Papua New Guinea    -5.580    150.520   \n",
      "\n",
      "   ...  TOTAL_DEATHS TOTAL_DEATHS_DESCRIPTION TOTAL_MISSING  \\\n",
      "0  ...           NaN                      NaN           NaN   \n",
      "1  ...           NaN                      NaN           NaN   \n",
      "2  ...           NaN                      3.0           NaN   \n",
      "3  ...           NaN                      NaN           NaN   \n",
      "4  ...           NaN                      NaN           NaN   \n",
      "\n",
      "  TOTAL_MISSING_DESCRIPTION  TOTAL_INJURIES TOTAL_INJURIES_DESCRIPTION  \\\n",
      "0                       NaN             NaN                        NaN   \n",
      "1                       NaN             NaN                        NaN   \n",
      "2                       NaN             NaN                        NaN   \n",
      "3                       NaN             NaN                        NaN   \n",
      "4                       NaN             NaN                        NaN   \n",
      "\n",
      "   TOTAL_DAMAGE_MILLIONS_DOLLARS  TOTAL_DAMAGE_DESCRIPTION  \\\n",
      "0                            NaN                       NaN   \n",
      "1                            NaN                       NaN   \n",
      "2                            NaN                       3.0   \n",
      "3                            NaN                       NaN   \n",
      "4                            NaN                       NaN   \n",
      "\n",
      "   TOTAL_HOUSES_DESTROYED  TOTAL_HOUSES_DESTROYED_DESCRIPTION  \n",
      "0                     NaN                                 NaN  \n",
      "1                     NaN                                 NaN  \n",
      "2                     NaN                                 3.0  \n",
      "3                     NaN                                 NaN  \n",
      "4                     NaN                                 NaN  \n",
      "\n",
      "[5 rows x 36 columns]\n"
     ]
    }
   ],
   "source": [
    "sigvol = pd.read_csv('significantvolcanoeruptions.csv')\n",
    "print(sigvol.head())"
   ]
  },
  {
   "cell_type": "code",
   "execution_count": 215,
   "metadata": {},
   "outputs": [
    {
     "name": "stdout",
     "output_type": "stream",
     "text": [
      "     Year Associated Tsunami? Associated Earthquake?             Name  \\\n",
      "1 -4360.0                 NaN                    NaN  Macauley Island   \n",
      "2 -4350.0                 NaN                    NaN            Kikai   \n",
      "3 -4050.0                 NaN                    NaN           Masaya   \n",
      "4 -4000.0                 NaN                    NaN             Pago   \n",
      "5 -3580.0                 NaN                    NaN             Taal   \n",
      "\n",
      "             Location           Country  Latitude  Longitude  Elevation  \\\n",
      "1         Kermadec Is       New Zealand   -30.200   -178.470      238.0   \n",
      "2           Ryukyu Is             Japan    30.780    130.280      717.0   \n",
      "3           Nicaragua         Nicaragua    11.984    -86.161      635.0   \n",
      "4  New Britain-SW Pac  Papua New Guinea    -5.580    150.520      742.0   \n",
      "5   Luzon-Philippines       Philippines    14.002    120.993      400.0   \n",
      "\n",
      "            Type      Status Time  Volcano Explosivity Index (VEI)  DEATHS  \n",
      "1        Caldera    Holocene    U                              6.0     NaN  \n",
      "2        Caldera  Historical   D1                              7.0     NaN  \n",
      "3        Caldera  Historical   D1                              6.0     NaN  \n",
      "4        Caldera  Historical   D2                              6.0     NaN  \n",
      "5  Stratovolcano  Historical   D1                              6.0     NaN  \n"
     ]
    }
   ],
   "source": [
    "# drop first row as its blank\n",
    "sigvol = sigvol.drop([0])\n",
    "print(sigvol.head())"
   ]
  },
  {
   "cell_type": "code",
   "execution_count": 216,
   "metadata": {},
   "outputs": [
    {
     "name": "stdout",
     "output_type": "stream",
     "text": [
      "<class 'pandas.core.frame.DataFrame'>\n",
      "Int64Index: 658 entries, 1 to 658\n",
      "Data columns (total 14 columns):\n",
      " #   Column                           Non-Null Count  Dtype  \n",
      "---  ------                           --------------  -----  \n",
      " 0   Year                             658 non-null    float64\n",
      " 1   Associated Tsunami?              133 non-null    object \n",
      " 2   Associated Earthquake?           55 non-null     object \n",
      " 3   Name                             658 non-null    object \n",
      " 4   Location                         658 non-null    object \n",
      " 5   Country                          658 non-null    object \n",
      " 6   Latitude                         658 non-null    float64\n",
      " 7   Longitude                        658 non-null    float64\n",
      " 8   Elevation                        658 non-null    float64\n",
      " 9   Type                             658 non-null    object \n",
      " 10  Status                           658 non-null    object \n",
      " 11  Time                             658 non-null    object \n",
      " 12  Volcano Explosivity Index (VEI)  570 non-null    float64\n",
      " 13  DEATHS                           310 non-null    float64\n",
      "dtypes: float64(6), object(8)\n",
      "memory usage: 77.1+ KB\n"
     ]
    }
   ],
   "source": [
    "sigvol.info()"
   ]
  },
  {
   "cell_type": "code",
   "execution_count": 217,
   "metadata": {},
   "outputs": [
    {
     "data": {
      "text/plain": [
       "Year                                 0\n",
       "Associated Tsunami?                525\n",
       "Associated Earthquake?             603\n",
       "Name                                 0\n",
       "Location                             0\n",
       "Country                              0\n",
       "Latitude                             0\n",
       "Longitude                            0\n",
       "Elevation                            0\n",
       "Type                                 0\n",
       "Status                               0\n",
       "Time                                 0\n",
       "Volcano Explosivity Index (VEI)     88\n",
       "DEATHS                             348\n",
       "dtype: int64"
      ]
     },
     "execution_count": 217,
     "metadata": {},
     "output_type": "execute_result"
    }
   ],
   "source": [
    "sigvol.isnull().sum()"
   ]
  },
  {
   "cell_type": "markdown",
   "metadata": {},
   "source": [
    "# Data Cleaning"
   ]
  },
  {
   "cell_type": "markdown",
   "metadata": {},
   "source": [
    "## Replace missing VEI values with mean"
   ]
  },
  {
   "cell_type": "code",
   "execution_count": 218,
   "metadata": {},
   "outputs": [
    {
     "name": "stdout",
     "output_type": "stream",
     "text": [
      "3\n",
      "3.0    264\n",
      "2.0    197\n",
      "4.0     85\n",
      "6.0     37\n",
      "1.0     36\n",
      "5.0     21\n",
      "0.0     15\n",
      "7.0      3\n",
      "Name: Volcano Explosivity Index (VEI), dtype: int64\n"
     ]
    }
   ],
   "source": [
    "# Replace missing values in VEI with the mean of remaining items\n",
    "VEImean = round(sigvol['Volcano Explosivity Index (VEI)'].mean())\n",
    "print(VEImean)\n",
    "sigvol['Volcano Explosivity Index (VEI)'] = sigvol['Volcano Explosivity Index (VEI)'].fillna(VEImean)\n",
    "print(sigvol['Volcano Explosivity Index (VEI)'].value_counts())\n"
   ]
  },
  {
   "cell_type": "markdown",
   "metadata": {},
   "source": [
    "## Replace Tsunami and Earthquake data"
   ]
  },
  {
   "cell_type": "code",
   "execution_count": 219,
   "metadata": {},
   "outputs": [],
   "source": [
    "# replace missing data with 0 and valid data with 1 in Tsunami and Earthquake\n",
    "sigvol['Associated Tsunami?'] = sigvol['Associated Tsunami?'].fillna(0)\n",
    "sigvol['Associated Tsunami?'].replace({\"TSU\": 1}, inplace=True)\n",
    "\n",
    "sigvol['Associated Earthquake?'] = sigvol['Associated Earthquake?'].fillna(0)\n",
    "sigvol['Associated Earthquake?'].replace({\"EQ\": 1}, inplace=True)"
   ]
  },
  {
   "cell_type": "code",
   "execution_count": 220,
   "metadata": {},
   "outputs": [
    {
     "name": "stdout",
     "output_type": "stream",
     "text": [
      "0    525\n",
      "1    133\n",
      "Name: Associated Tsunami?, dtype: int64\n",
      "0    603\n",
      "1     55\n",
      "Name: Associated Earthquake?, dtype: int64\n"
     ]
    }
   ],
   "source": [
    "print(sigvol['Associated Tsunami?'].value_counts())\n",
    "print(sigvol['Associated Earthquake?'].value_counts())"
   ]
  },
  {
   "cell_type": "markdown",
   "metadata": {},
   "source": [
    "## Discover correlation to pick columns to do prediction with"
   ]
  },
  {
   "cell_type": "code",
   "execution_count": 221,
   "metadata": {},
   "outputs": [
    {
     "data": {
      "text/html": [
       "<div>\n",
       "<style scoped>\n",
       "    .dataframe tbody tr th:only-of-type {\n",
       "        vertical-align: middle;\n",
       "    }\n",
       "\n",
       "    .dataframe tbody tr th {\n",
       "        vertical-align: top;\n",
       "    }\n",
       "\n",
       "    .dataframe thead th {\n",
       "        text-align: right;\n",
       "    }\n",
       "</style>\n",
       "<table border=\"1\" class=\"dataframe\">\n",
       "  <thead>\n",
       "    <tr style=\"text-align: right;\">\n",
       "      <th></th>\n",
       "      <th>Year</th>\n",
       "      <th>Associated Tsunami?</th>\n",
       "      <th>Associated Earthquake?</th>\n",
       "      <th>Latitude</th>\n",
       "      <th>Longitude</th>\n",
       "      <th>Elevation</th>\n",
       "      <th>Volcano Explosivity Index (VEI)</th>\n",
       "      <th>DEATHS</th>\n",
       "    </tr>\n",
       "  </thead>\n",
       "  <tbody>\n",
       "    <tr>\n",
       "      <th>Year</th>\n",
       "      <td>1.000000</td>\n",
       "      <td>0.043428</td>\n",
       "      <td>0.030480</td>\n",
       "      <td>-0.068468</td>\n",
       "      <td>0.100186</td>\n",
       "      <td>0.134471</td>\n",
       "      <td>-0.499346</td>\n",
       "      <td>-0.274986</td>\n",
       "    </tr>\n",
       "    <tr>\n",
       "      <th>Associated Tsunami?</th>\n",
       "      <td>0.043428</td>\n",
       "      <td>1.000000</td>\n",
       "      <td>0.340238</td>\n",
       "      <td>0.012807</td>\n",
       "      <td>-0.007064</td>\n",
       "      <td>-0.314390</td>\n",
       "      <td>-0.030593</td>\n",
       "      <td>0.151225</td>\n",
       "    </tr>\n",
       "    <tr>\n",
       "      <th>Associated Earthquake?</th>\n",
       "      <td>0.030480</td>\n",
       "      <td>0.340238</td>\n",
       "      <td>1.000000</td>\n",
       "      <td>0.028158</td>\n",
       "      <td>-0.021976</td>\n",
       "      <td>-0.039626</td>\n",
       "      <td>0.028007</td>\n",
       "      <td>0.016537</td>\n",
       "    </tr>\n",
       "    <tr>\n",
       "      <th>Latitude</th>\n",
       "      <td>-0.068468</td>\n",
       "      <td>0.012807</td>\n",
       "      <td>0.028158</td>\n",
       "      <td>1.000000</td>\n",
       "      <td>-0.186688</td>\n",
       "      <td>-0.077874</td>\n",
       "      <td>0.069808</td>\n",
       "      <td>-0.028197</td>\n",
       "    </tr>\n",
       "    <tr>\n",
       "      <th>Longitude</th>\n",
       "      <td>0.100186</td>\n",
       "      <td>-0.007064</td>\n",
       "      <td>-0.021976</td>\n",
       "      <td>-0.186688</td>\n",
       "      <td>1.000000</td>\n",
       "      <td>-0.245480</td>\n",
       "      <td>-0.107419</td>\n",
       "      <td>-0.136751</td>\n",
       "    </tr>\n",
       "    <tr>\n",
       "      <th>Elevation</th>\n",
       "      <td>0.134471</td>\n",
       "      <td>-0.314390</td>\n",
       "      <td>-0.039626</td>\n",
       "      <td>-0.077874</td>\n",
       "      <td>-0.245480</td>\n",
       "      <td>1.000000</td>\n",
       "      <td>-0.052623</td>\n",
       "      <td>0.008834</td>\n",
       "    </tr>\n",
       "    <tr>\n",
       "      <th>Volcano Explosivity Index (VEI)</th>\n",
       "      <td>-0.499346</td>\n",
       "      <td>-0.030593</td>\n",
       "      <td>0.028007</td>\n",
       "      <td>0.069808</td>\n",
       "      <td>-0.107419</td>\n",
       "      <td>-0.052623</td>\n",
       "      <td>1.000000</td>\n",
       "      <td>0.297494</td>\n",
       "    </tr>\n",
       "    <tr>\n",
       "      <th>DEATHS</th>\n",
       "      <td>-0.274986</td>\n",
       "      <td>0.151225</td>\n",
       "      <td>0.016537</td>\n",
       "      <td>-0.028197</td>\n",
       "      <td>-0.136751</td>\n",
       "      <td>0.008834</td>\n",
       "      <td>0.297494</td>\n",
       "      <td>1.000000</td>\n",
       "    </tr>\n",
       "  </tbody>\n",
       "</table>\n",
       "</div>"
      ],
      "text/plain": [
       "                                     Year  Associated Tsunami?  \\\n",
       "Year                             1.000000             0.043428   \n",
       "Associated Tsunami?              0.043428             1.000000   \n",
       "Associated Earthquake?           0.030480             0.340238   \n",
       "Latitude                        -0.068468             0.012807   \n",
       "Longitude                        0.100186            -0.007064   \n",
       "Elevation                        0.134471            -0.314390   \n",
       "Volcano Explosivity Index (VEI) -0.499346            -0.030593   \n",
       "DEATHS                          -0.274986             0.151225   \n",
       "\n",
       "                                 Associated Earthquake?  Latitude  Longitude  \\\n",
       "Year                                           0.030480 -0.068468   0.100186   \n",
       "Associated Tsunami?                            0.340238  0.012807  -0.007064   \n",
       "Associated Earthquake?                         1.000000  0.028158  -0.021976   \n",
       "Latitude                                       0.028158  1.000000  -0.186688   \n",
       "Longitude                                     -0.021976 -0.186688   1.000000   \n",
       "Elevation                                     -0.039626 -0.077874  -0.245480   \n",
       "Volcano Explosivity Index (VEI)                0.028007  0.069808  -0.107419   \n",
       "DEATHS                                         0.016537 -0.028197  -0.136751   \n",
       "\n",
       "                                 Elevation  Volcano Explosivity Index (VEI)  \\\n",
       "Year                              0.134471                        -0.499346   \n",
       "Associated Tsunami?              -0.314390                        -0.030593   \n",
       "Associated Earthquake?           -0.039626                         0.028007   \n",
       "Latitude                         -0.077874                         0.069808   \n",
       "Longitude                        -0.245480                        -0.107419   \n",
       "Elevation                         1.000000                        -0.052623   \n",
       "Volcano Explosivity Index (VEI)  -0.052623                         1.000000   \n",
       "DEATHS                            0.008834                         0.297494   \n",
       "\n",
       "                                   DEATHS  \n",
       "Year                            -0.274986  \n",
       "Associated Tsunami?              0.151225  \n",
       "Associated Earthquake?           0.016537  \n",
       "Latitude                        -0.028197  \n",
       "Longitude                       -0.136751  \n",
       "Elevation                        0.008834  \n",
       "Volcano Explosivity Index (VEI)  0.297494  \n",
       "DEATHS                           1.000000  "
      ]
     },
     "execution_count": 221,
     "metadata": {},
     "output_type": "execute_result"
    }
   ],
   "source": [
    "# determine columns the correlate with DEATHS column\n",
    "sigvol.corr()"
   ]
  },
  {
   "cell_type": "markdown",
   "metadata": {},
   "source": [
    "Columns with correlation:\n",
    "\n",
    "Tsunami, Longitude and VEI chosen to keep. Year was considered but the reason for correlation with Year would be because the development of record keeping rather than a reason behind the volcano erruption itself.   \n",
    "Longitude mean be correlated to define location on earth and VEI definitely is a good option. Tsunami I was on the fence about because of its imbalance but decided to keep it.\n"
   ]
  },
  {
   "cell_type": "code",
   "execution_count": 222,
   "metadata": {},
   "outputs": [],
   "source": [
    "# Remove all other columns except DEATHS, Longitude, Tsunami and VEI.\n",
    "msigvol = sigvol[['Associated Tsunami?', 'Longitude', 'Volcano Explosivity Index (VEI)', 'DEATHS']].copy()"
   ]
  },
  {
   "cell_type": "code",
   "execution_count": 223,
   "metadata": {},
   "outputs": [
    {
     "name": "stdout",
     "output_type": "stream",
     "text": [
      "   Associated Tsunami?  Longitude  Volcano Explosivity Index (VEI)  DEATHS\n",
      "1                    0   -178.470                              6.0     NaN\n",
      "2                    0    130.280                              7.0     NaN\n",
      "3                    0    -86.161                              6.0     NaN\n",
      "4                    0    150.520                              6.0     NaN\n",
      "5                    0    120.993                              6.0     NaN\n"
     ]
    }
   ],
   "source": [
    "print(msigvol.head())"
   ]
  },
  {
   "cell_type": "markdown",
   "metadata": {},
   "source": [
    "## Prep data for Linear Regression"
   ]
  },
  {
   "cell_type": "code",
   "execution_count": 224,
   "metadata": {},
   "outputs": [
    {
     "name": "stdout",
     "output_type": "stream",
     "text": [
      "   Associated Tsunami?  Longitude  Volcano Explosivity Index (VEI)  DEATHS\n",
      "1                    0   -178.470                              6.0     NaN\n",
      "2                    0    130.280                              7.0     NaN\n",
      "3                    0    -86.161                              6.0     NaN\n",
      "4                    0    150.520                              6.0     NaN\n",
      "5                    0    120.993                              6.0     NaN\n",
      "(348, 4)\n"
     ]
    }
   ],
   "source": [
    "# separate rows having null or missing data for prediction\n",
    "testd = msigvol[msigvol['DEATHS'].isnull()]\n",
    "print(testd.head())\n",
    "print(testd.shape)"
   ]
  },
  {
   "cell_type": "code",
   "execution_count": 225,
   "metadata": {},
   "outputs": [
    {
     "name": "stdout",
     "output_type": "stream",
     "text": [
      "     Associated Tsunami?  Longitude  Volcano Explosivity Index (VEI)   DEATHS\n",
      "21                     0     15.004                              3.0     40.0\n",
      "27                     0     14.426                              5.0   3500.0\n",
      "33                     0    -89.053                              6.0  30000.0\n",
      "39                     0    130.670                              4.0     80.0\n",
      "70                     0    -16.650                              5.0    220.0\n",
      "..                   ...        ...                              ...      ...\n",
      "649                    0    123.685                              3.0      5.0\n",
      "650                    0    121.708                              3.0      5.0\n",
      "654                    0     98.392                              3.0     17.0\n",
      "655                    0    112.308                              3.0      7.0\n",
      "656                    0    137.480                              3.0     55.0\n",
      "\n",
      "[310 rows x 4 columns]\n",
      "(310, 4)\n"
     ]
    }
   ],
   "source": [
    "# drop null values from orig df\n",
    "msigvol = msigvol.dropna()\n",
    "print(msigvol)\n",
    "print(msigvol.shape)"
   ]
  },
  {
   "cell_type": "code",
   "execution_count": 226,
   "metadata": {},
   "outputs": [
    {
     "name": "stdout",
     "output_type": "stream",
     "text": [
      "    Associated Tsunami?  Longitude  Volcano Explosivity Index (VEI)\n",
      "21                    0     15.004                              3.0\n",
      "27                    0     14.426                              5.0\n",
      "33                    0    -89.053                              6.0\n",
      "39                    0    130.670                              4.0\n",
      "70                    0    -16.650                              5.0\n"
     ]
    }
   ],
   "source": [
    "y_train = msigvol['DEATHS']\n",
    "X_train = msigvol.drop(\"DEATHS\", axis=1)\n",
    "X_test = testd.drop(\"DEATHS\", axis=1)\n",
    "print(X_train.head())\n"
   ]
  },
  {
   "cell_type": "markdown",
   "metadata": {},
   "source": [
    "## Model training and results"
   ]
  },
  {
   "cell_type": "code",
   "execution_count": 227,
   "metadata": {},
   "outputs": [
    {
     "data": {
      "text/plain": [
       "LinearRegression()"
      ]
     },
     "execution_count": 227,
     "metadata": {},
     "output_type": "execute_result"
    }
   ],
   "source": [
    "lr = LinearRegression()\n",
    "lr.fit(X_train, y_train)"
   ]
  },
  {
   "cell_type": "code",
   "execution_count": 228,
   "metadata": {},
   "outputs": [],
   "source": [
    "y_pred = lr.predict(X_test)\n",
    "sigvol.loc[sigvol.DEATHS.isnull(), 'DEATHS'] = y_pred"
   ]
  },
  {
   "cell_type": "code",
   "execution_count": 229,
   "metadata": {},
   "outputs": [
    {
     "name": "stdout",
     "output_type": "stream",
     "text": [
      "1      3425.666945\n",
      "2      3210.825263\n",
      "3      3158.446917\n",
      "4      2473.292671\n",
      "5      2558.768689\n",
      "          ...     \n",
      "654      17.000000\n",
      "655       7.000000\n",
      "656      55.000000\n",
      "657    1321.747349\n",
      "658     942.690866\n",
      "Name: DEATHS, Length: 658, dtype: float64\n",
      "-1489.7354701161385\n"
     ]
    }
   ],
   "source": [
    "print(sigvol['DEATHS'])\n",
    "print(min(sigvol['DEATHS']))"
   ]
  },
  {
   "cell_type": "markdown",
   "metadata": {},
   "source": [
    "## Clean up resulting DEATHS data to replace negatives with 0"
   ]
  },
  {
   "cell_type": "code",
   "execution_count": 230,
   "metadata": {},
   "outputs": [
    {
     "name": "stdout",
     "output_type": "stream",
     "text": [
      "1      3425\n",
      "2      3210\n",
      "3      3158\n",
      "4      2473\n",
      "5      2558\n",
      "       ... \n",
      "654      17\n",
      "655       7\n",
      "656      55\n",
      "657    1321\n",
      "658     942\n",
      "Name: DEATHS, Length: 658, dtype: int64\n",
      "0\n"
     ]
    }
   ],
   "source": [
    "# convert the negative values for DEATHS to zeros\n",
    "num = sigvol['DEATHS']._get_numeric_data()\n",
    "num[num < 0] = 0\n",
    "\n",
    "sigvol['DEATHS'] = sigvol['DEATHS'].astype(int)\n",
    "print(sigvol['DEATHS'])\n",
    "print(min(sigvol['DEATHS']))\n"
   ]
  },
  {
   "cell_type": "code",
   "execution_count": 231,
   "metadata": {},
   "outputs": [
    {
     "name": "stdout",
     "output_type": "stream",
     "text": [
      "     Year  Associated Tsunami?  Associated Earthquake?             Name  \\\n",
      "1 -4360.0                    0                       0  Macauley Island   \n",
      "2 -4350.0                    0                       0            Kikai   \n",
      "3 -4050.0                    0                       0           Masaya   \n",
      "4 -4000.0                    0                       0             Pago   \n",
      "5 -3580.0                    0                       0             Taal   \n",
      "\n",
      "             Location           Country  Latitude  Longitude  Elevation  \\\n",
      "1         Kermadec Is       New Zealand   -30.200   -178.470      238.0   \n",
      "2           Ryukyu Is             Japan    30.780    130.280      717.0   \n",
      "3           Nicaragua         Nicaragua    11.984    -86.161      635.0   \n",
      "4  New Britain-SW Pac  Papua New Guinea    -5.580    150.520      742.0   \n",
      "5   Luzon-Philippines       Philippines    14.002    120.993      400.0   \n",
      "\n",
      "            Type      Status Time  Volcano Explosivity Index (VEI)  DEATHS  \n",
      "1        Caldera    Holocene    U                              6.0    3425  \n",
      "2        Caldera  Historical   D1                              7.0    3210  \n",
      "3        Caldera  Historical   D1                              6.0    3158  \n",
      "4        Caldera  Historical   D2                              6.0    2473  \n",
      "5  Stratovolcano  Historical   D1                              6.0    2558  \n"
     ]
    }
   ],
   "source": [
    "print(sigvol.head())"
   ]
  },
  {
   "cell_type": "markdown",
   "metadata": {},
   "source": [
    "## Create new clean CSV"
   ]
  },
  {
   "cell_type": "code",
   "execution_count": 234,
   "metadata": {},
   "outputs": [],
   "source": [
    "sigvol.to_csv('sigvol-clean.csv', index=False)"
   ]
  },
  {
   "cell_type": "code",
   "execution_count": null,
   "metadata": {},
   "outputs": [],
   "source": [
    "y_train2 = msigvol['DEATHS']\n",
    "X_train2 = msigvol.drop(\"DEATHS\", axis=1)\n",
    "X_test2 = testd.drop(\"DEATHS\", axis=1)\n",
    "print(X_train.head())"
   ]
  },
  {
   "cell_type": "code",
   "execution_count": null,
   "metadata": {},
   "outputs": [],
   "source": []
  }
 ],
 "metadata": {
  "kernelspec": {
   "display_name": "Python 3",
   "language": "python",
   "name": "python3"
  },
  "language_info": {
   "codemirror_mode": {
    "name": "ipython",
    "version": 3
   },
   "file_extension": ".py",
   "mimetype": "text/x-python",
   "name": "python",
   "nbconvert_exporter": "python",
   "pygments_lexer": "ipython3",
   "version": "3.8.3"
  }
 },
 "nbformat": 4,
 "nbformat_minor": 5
}
